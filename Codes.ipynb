{
  "nbformat": 4,
  "nbformat_minor": 0,
  "metadata": {
    "colab": {
      "provenance": []
    },
    "kernelspec": {
      "name": "python3",
      "display_name": "Python 3"
    },
    "language_info": {
      "name": "python"
    }
  },
  "cells": [
    {
      "cell_type": "markdown",
      "source": [
        "# **Question 1**"
      ],
      "metadata": {
        "id": "Tp1JCzOUNge8"
      }
    },
    {
      "cell_type": "markdown",
      "source": [
        "# **Original Code**"
      ],
      "metadata": {
        "id": "3uQC0ETxVelH"
      }
    },
    {
      "cell_type": "code",
      "execution_count": 1,
      "metadata": {
        "id": "JwrdokwROyHF"
      },
      "outputs": [],
      "source": [
        "import torch\n",
        "import torch .nn as nn\n",
        "import torch .optim as optim\n",
        "import torchvision\n",
        "import torchvision .transforms as transforms\n",
        "import matplotlib . pyplot as plt"
      ]
    },
    {
      "cell_type": "code",
      "source": [
        "# 1. Dataloading\n",
        "transform = transforms.Compose(\n",
        "    [transforms.ToTensor(),\n",
        "     transforms.Normalize((0.5, 0.5, 0.5), (0.5, 0.5, 0.5))])\n",
        "\n",
        "batch_size = 50\n",
        "\n",
        "trainset = torchvision.datasets.CIFAR10(root='./data', train=True,\n",
        "                                        download=True, transform=transform)\n",
        "trainloader = torch.utils.data.DataLoader(trainset, batch_size=batch_size,\n",
        "                                          shuffle=True, num_workers=2)\n",
        "\n",
        "testset = torchvision.datasets.CIFAR10(root='./data', train=False,\n",
        "                                       download=True, transform=transform)\n",
        "testloader = torch.utils.data.DataLoader(testset, batch_size=batch_size,\n",
        "                                         shuffle=False, num_workers=2)\n",
        "\n",
        "classes = ('plane', 'car', 'bird', 'cat',\n",
        "           'deer', 'dog', 'frog', 'horse', 'ship', 'truck')\n",
        "\n",
        "# 2. Define Network Parameters\n",
        "\n",
        "Din = 3 * 32 * 32  # Input size (flattened CIFAR-10 image size)\n",
        "K = 10  # Output size (number of classes in CIFAR-10)\n",
        "std = 1e-5\n",
        "\n",
        "# Initialize weights and biases\n",
        "w = torch.randn(Din, K) * std  # One layer: directly map input to output\n",
        "b = torch.zeros(K)\n",
        "\n",
        "# Hyperparameters\n",
        "iterations = 20\n",
        "lr = 2e-6  # Learning rate\n",
        "lr_decay = 0.9  # Learning rate decay\n",
        "reg = 0  # Regularization\n",
        "loss_history = []\n",
        "\n",
        "# 3. Training Loop\n",
        "for t in range(iterations):\n",
        "    running_loss = 0.0\n",
        "    for i, data in enumerate(trainloader, 0):\n",
        "        # Get inputs and labels\n",
        "        inputs, labels = data\n",
        "        Ntr = inputs.shape[0]  # Batch size\n",
        "        x_train = inputs.view(Ntr, -1)  # Flatten input to (Ntr, Din)\n",
        "        y_train_onehot = nn.functional.one_hot(labels, K).float()  # Convert labels to one-hot\n",
        "\n",
        "        # Forward pass\n",
        "        y_pred = x_train.mm(w) + b  # Output layer activation\n",
        "\n",
        "        # Loss calculation (Mean Squared Error with regularization)\n",
        "        loss = (1 / Ntr) * torch.sum((y_pred - y_train_onehot) ** 2) + reg * torch.sum(w ** 2)\n",
        "        loss_history.append(loss.item())\n",
        "        running_loss += loss.item()\n",
        "\n",
        "        # Backpropagation\n",
        "        dy_pred = (2.0 / Ntr) * (y_pred - y_train_onehot)\n",
        "        dw = x_train.t().mm(dy_pred) + reg * w\n",
        "        db = dy_pred.sum(dim=0)\n",
        "\n",
        "        # Parameter update\n",
        "        w -= lr * dw\n",
        "        b -= lr * db\n",
        "\n",
        "    # Print loss for every epoch\n",
        "    if t % 1 == 0:\n",
        "        print(f'Epoch [{t+1}/{iterations}], Loss: {running_loss / len(trainloader)}')\n",
        "\n",
        "    # Learning rate decay\n",
        "    lr *= lr_decay\n",
        "\n",
        "# 4. Plotting the Loss History\n",
        "plt.plot(loss_history)\n",
        "plt.title(\"Loss_History\")\n",
        "plt.xlabel(\"Iteration\")\n",
        "plt.ylabel(\"Loss\")\n",
        "plt.show()\n",
        "\n",
        "# 5. Calculate Accuracy on Training Set\n",
        "\n",
        "correct_train = 0\n",
        "total_train = 0\n",
        "with torch.no_grad():\n",
        "    for data in trainloader:\n",
        "        inputs, labels = data\n",
        "        Ntr = inputs.shape[0]\n",
        "        x_train = inputs.view(Ntr, -1)\n",
        "        y_train_onehot = nn.functional.one_hot(labels, K).float()\n",
        "\n",
        "        # Forward pass\n",
        "        y_train_pred = x_train.mm(w) + b\n",
        "        predicted_train = torch.argmax(y_train_pred, dim=1)\n",
        "        total_train += labels.size(0)\n",
        "        correct_train += (predicted_train == labels).sum().item()\n",
        "\n",
        "train_acc = 100 * correct_train / total_train\n",
        "print(f'Training_accuracy: {train_acc:.2f}%')\n",
        "\n",
        "# 6. Calculate Accuracy on Test Set\n",
        "\n",
        "correct_test = 0\n",
        "total_test = 0\n",
        "with torch.no_grad():\n",
        "    for data in testloader:\n",
        "        inputs, labels = data\n",
        "        Nte = inputs.shape[0]\n",
        "        x_test = inputs.view(Nte, -1)\n",
        "        y_test_onehot = nn.functional.one_hot(labels, K).float()\n",
        "\n",
        "        # Forward pass\n",
        "        y_test_pred = x_test.mm(w) + b\n",
        "        predicted_test = torch.argmax(y_test_pred, dim=1)\n",
        "        total_test += labels.size(0)\n",
        "        correct_test += (predicted_test == labels).sum().item()\n",
        "\n",
        "test_acc = 100 * correct_test / total_test\n",
        "print(f'Test_accuracy: {test_acc:.2f}%')"
      ],
      "metadata": {
        "colab": {
          "base_uri": "https://localhost:8080/",
          "height": 923
        },
        "id": "IfenYrxMaxBG",
        "outputId": "d6b2c8cc-37e3-444c-8e19-4d0479452d4d"
      },
      "execution_count": 2,
      "outputs": [
        {
          "output_type": "stream",
          "name": "stdout",
          "text": [
            "Downloading https://www.cs.toronto.edu/~kriz/cifar-10-python.tar.gz to ./data/cifar-10-python.tar.gz\n"
          ]
        },
        {
          "output_type": "stream",
          "name": "stderr",
          "text": [
            "100%|██████████| 170M/170M [00:01<00:00, 98.3MB/s]\n"
          ]
        },
        {
          "output_type": "stream",
          "name": "stdout",
          "text": [
            "Extracting ./data/cifar-10-python.tar.gz to ./data\n",
            "Files already downloaded and verified\n",
            "Epoch [1/20], Loss: 0.9769820148348808\n",
            "Epoch [2/20], Loss: 0.9498585961461067\n",
            "Epoch [3/20], Loss: 0.9361079145073891\n",
            "Epoch [4/20], Loss: 0.9275502440929413\n",
            "Epoch [5/20], Loss: 0.9216077747344971\n",
            "Epoch [6/20], Loss: 0.9172038072347641\n",
            "Epoch [7/20], Loss: 0.9137905761599541\n",
            "Epoch [8/20], Loss: 0.911062692463398\n",
            "Epoch [9/20], Loss: 0.9088332392573356\n",
            "Epoch [10/20], Loss: 0.9069799973368645\n",
            "Epoch [11/20], Loss: 0.9054191771149636\n",
            "Epoch [12/20], Loss: 0.9040910518765449\n",
            "Epoch [13/20], Loss: 0.902952249288559\n",
            "Epoch [14/20], Loss: 0.9019685804247856\n",
            "Epoch [15/20], Loss: 0.9011144083738327\n",
            "Epoch [16/20], Loss: 0.9003690710663795\n",
            "Epoch [17/20], Loss: 0.8997162736058235\n",
            "Epoch [18/20], Loss: 0.8991426773071289\n",
            "Epoch [19/20], Loss: 0.8986370220184327\n",
            "Epoch [20/20], Loss: 0.8981903213858604\n"
          ]
        },
        {
          "output_type": "display_data",
          "data": {
            "text/plain": [
              "<Figure size 640x480 with 1 Axes>"
            ],
            "image/png": "[encoded data removed]"
          },
          "metadata": {}
        },
        {
          "output_type": "stream",
          "name": "stdout",
          "text": [
            "Training_accuracy: 32.21%\n",
            "Test_accuracy: 32.49%\n"
          ]
        }
      ]
    },
    {
      "cell_type": "markdown",
      "source": [
        "# **Middle layer with 100 nodes and a sigmoid activation**"
      ],
      "metadata": {
        "id": "d1bGxzS-sbPg"
      }
    },
    {
      "cell_type": "code",
      "source": [
        "import torch\n",
        "import torch.nn as nn\n",
        "import torch.optim as optim\n",
        "import torchvision\n",
        "import torchvision.transforms as transforms\n",
        "import matplotlib.pyplot as plt\n",
        "\n",
        "if __name__ == '__main__':\n",
        "    # 1. Dataloading\n",
        "    transform = transforms.Compose(\n",
        "        [\n",
        "            transforms.ToTensor(),\n",
        "            transforms.Normalize((0.5, 0.5, 0.5), (0.5, 0.5, 0.5))\n",
        "        ]\n",
        "    )\n",
        "    batch_size = 50\n",
        "    trainset = torchvision.datasets.CIFAR10(root='./data', train=True, download=True, transform=transform)\n",
        "    trainloader = torch.utils.data.DataLoader(trainset, batch_size=batch_size, shuffle=True, num_workers=2)\n",
        "    testset = torchvision.datasets.CIFAR10(root='./data', train=False, download=True, transform=transform)\n",
        "    testloader = torch.utils.data.DataLoader(testset, batch_size=batch_size, shuffle=False, num_workers=2)\n",
        "\n",
        "    classes = ('plane', 'car', 'bird', 'cat', 'deer', 'dog', 'frog', 'horse', 'ship', 'truck')\n",
        "\n",
        "    # 2. Define Network Architecture with Hidden Layer\n",
        "    class SimpleNet(nn.Module):\n",
        "        def __init__(self, input_size, hidden_size, output_size):\n",
        "            super(SimpleNet, self).__init__()\n",
        "            # Define layers\n",
        "            self.fc1 = nn.Linear(input_size, hidden_size)\n",
        "            self.sigmoid = nn.Sigmoid()\n",
        "            self.fc2 = nn.Linear(hidden_size, output_size)\n",
        "\n",
        "        def forward(self, x):\n",
        "            x = x.view(x.size(0), -1)  # Flatten input\n",
        "            x = self.fc1(x)  # First layer\n",
        "            x = self.sigmoid(x)  # Sigmoid activation\n",
        "            x = self.fc2(x)  # Output layer\n",
        "            return x\n",
        "\n",
        "    # Model parameters\n",
        "    input_size = 3 * 32 * 32  # CIFAR-10 image size (flattened)\n",
        "    hidden_size = 100  # Hidden layer size\n",
        "    output_size = 10  # Number of classes\n",
        "\n",
        "    # Instantiate model, loss function, and optimizer\n",
        "    model = SimpleNet(input_size, hidden_size, output_size)\n",
        "    criterion = nn.CrossEntropyLoss()  # Cross-entropy loss for classification\n",
        "    optimizer = optim.SGD(model.parameters(), lr=0.01, weight_decay=0.0005)  # Weight decay for L2 regularization\n",
        "\n",
        "    # 3. Training Loop\n",
        "    num_epochs = 10\n",
        "    loss_history = []\n",
        "\n",
        "    for epoch in range(num_epochs):\n",
        "        running_loss = 0.0\n",
        "        for inputs, labels in trainloader:\n",
        "            # Zero gradients\n",
        "            optimizer.zero_grad()\n",
        "\n",
        "            # Forward pass\n",
        "            outputs = model(inputs)\n",
        "            loss = criterion(outputs, labels)\n",
        "\n",
        "            # Backward pass and optimization\n",
        "            loss.backward()\n",
        "            optimizer.step()\n",
        "\n",
        "            # Accumulate loss\n",
        "            running_loss += loss.item()\n",
        "\n",
        "        # Average loss for the epoch\n",
        "        epoch_loss = running_loss / len(trainloader)\n",
        "        loss_history.append(epoch_loss)\n",
        "        print(f\"Epoch {epoch + 1}/{num_epochs}, Loss: {epoch_loss:.4f}\")\n",
        "\n",
        "    # 4. Plotting the Loss History\n",
        "    plt.plot(range(1, num_epochs + 1), loss_history, marker='o')\n",
        "    plt.title(\"Loss History\")\n",
        "    plt.xlabel(\"Epoch\")\n",
        "    plt.ylabel(\"Loss\")\n",
        "    plt.show()\n",
        "\n",
        "    # 5. Calculate Training Accuracy\n",
        "    correct_train = 0\n",
        "    total_train = 0\n",
        "    with torch.no_grad():\n",
        "        for inputs, labels in trainloader:\n",
        "            outputs = model(inputs)\n",
        "            _, predicted = torch.max(outputs, 1)\n",
        "            total_train += labels.size(0)\n",
        "            correct_train += (predicted == labels).sum().item()\n",
        "    train_acc = 100 * correct_train / total_train\n",
        "    print(f\"Training Accuracy: {train_acc:.2f}%\")\n",
        "\n",
        "    # 6. Calculate Test Accuracy\n",
        "    correct_test = 0\n",
        "    total_test = 0\n",
        "    with torch.no_grad():\n",
        "        for inputs, labels in testloader:\n",
        "            outputs = model(inputs)\n",
        "            _, predicted = torch.max(outputs, 1)\n",
        "            total_test += labels.size(0)\n",
        "            correct_test += (predicted == labels).sum().item()\n",
        "    test_acc = 100 * correct_test / total_test\n",
        "    print(f\"Test Accuracy: {test_acc:.2f}%\")"
      ],
      "metadata": {
        "colab": {
          "base_uri": "https://localhost:8080/",
          "height": 750
        },
        "id": "WBFUh7IQsk8H",
        "outputId": "506eae8d-9d65-4c9b-fd2e-1617692f42ab"
      },
      "execution_count": 1,
      "outputs": [
        {
          "output_type": "stream",
          "name": "stdout",
          "text": [
            "Downloading https://www.cs.toronto.edu/~kriz/cifar-10-python.tar.gz to ./data/cifar-10-python.tar.gz\n"
          ]
        },
        {
          "output_type": "stream",
          "name": "stderr",
          "text": [
            "100%|██████████| 170M/170M [00:03<00:00, 50.3MB/s]\n"
          ]
        },
        {
          "output_type": "stream",
          "name": "stdout",
          "text": [
            "Extracting ./data/cifar-10-python.tar.gz to ./data\n",
            "Files already downloaded and verified\n",
            "Epoch 1/10, Loss: 2.0817\n",
            "Epoch 2/10, Loss: 1.9089\n",
            "Epoch 3/10, Loss: 1.8476\n",
            "Epoch 4/10, Loss: 1.8101\n",
            "Epoch 5/10, Loss: 1.7821\n",
            "Epoch 6/10, Loss: 1.7595\n",
            "Epoch 7/10, Loss: 1.7413\n",
            "Epoch 8/10, Loss: 1.7260\n",
            "Epoch 9/10, Loss: 1.7125\n",
            "Epoch 10/10, Loss: 1.7006\n"
          ]
        },
        {
          "output_type": "display_data",
          "data": {
            "text/plain": [
              "<Figure size 640x480 with 1 Axes>"
            ],
            "image/png": "[encoded data removed]"
          },
          "metadata": {}
        },
        {
          "output_type": "stream",
          "name": "stdout",
          "text": [
            "Training Accuracy: 41.35%\n",
            "Test Accuracy: 41.10%\n"
          ]
        }
      ]
    },
    {
      "cell_type": "markdown",
      "source": [
        "# **Question 2**"
      ],
      "metadata": {
        "id": "ISEMxmcS447p"
      }
    },
    {
      "cell_type": "markdown",
      "source": [
        "# *LeNet-5 network for MNIST*"
      ],
      "metadata": {
        "id": "GBn4xYyCVrJ9"
      }
    },
    {
      "cell_type": "code",
      "source": [
        "# Check if CUDA is available\n",
        "device = torch.device(\"cuda\" if torch.cuda.is_available() else \"cpu\")\n",
        "print(f\"Using device: {device}\")\n",
        "\n",
        "# 1. Data loading and transformation for MNIST\n",
        "transform = transforms.Compose([\n",
        "    transforms.Resize((32, 32)),  # LeNet-5 uses 32x32 input\n",
        "    transforms.ToTensor(),\n",
        "    transforms.Normalize((0.5,), (0.5,))\n",
        "])\n",
        "\n",
        "batch_size = 64\n",
        "trainset = torchvision.datasets.MNIST(root='./data', train=True, download=True, transform=transform)\n",
        "trainloader = torch.utils.data.DataLoader(trainset, batch_size=batch_size, shuffle=True, num_workers=2)\n",
        "\n",
        "testset = torchvision.datasets.MNIST(root='./data', train=False, download=True, transform=transform)\n",
        "testloader = torch.utils.data.DataLoader(testset, batch_size=batch_size, shuffle=False, num_workers=2)\n",
        "\n",
        "# 2. Define LeNet-5 Model\n",
        "class LeNet5(nn.Module):\n",
        "    def __init__(self):\n",
        "        super(LeNet5, self).__init__()\n",
        "        # First convolutional layer: 1 input channel, 6 output channels, 5x5 kernel\n",
        "        self.conv1 = nn.Conv2d(1, 6, kernel_size=5)  # Remove padding=2\n",
        "        # Second convolutional layer: 6 input channels, 16 output channels, 5x5 kernel\n",
        "        self.conv2 = nn.Conv2d(6, 16, kernel_size=5)\n",
        "        # Fully connected layers\n",
        "        self.fc1 = nn.Linear(16 * 5 * 5, 120)  # The 5x5 is the size of the feature maps after conv2\n",
        "        self.fc2 = nn.Linear(120, 84)\n",
        "        self.fc3 = nn.Linear(84, 10)\n",
        "\n",
        "    def forward(self, x):\n",
        "        # First conv + activation + pooling\n",
        "        x = torch.tanh(self.conv1(x))        # Output: 6 x 28 x 28\n",
        "        x = torch.max_pool2d(x, 2)           # Output: 6 x 14 x 14\n",
        "\n",
        "        # Second conv + activation + pooling\n",
        "        x = torch.tanh(self.conv2(x))        # Output: 16 x 10 x 10\n",
        "        x = torch.max_pool2d(x, 2)           # Output: 16 x 5 x 5\n",
        "\n",
        "        # Flatten the feature maps\n",
        "        x = x.view(-1, 16 * 5 * 5)           # Output: batch_size x 400\n",
        "\n",
        "        # Fully connected layers\n",
        "        x = torch.tanh(self.fc1(x))\n",
        "        x = torch.tanh(self.fc2(x))\n",
        "        x = self.fc3(x)\n",
        "        return x\n",
        "\n",
        "# Move the model to the selected device\n",
        "model = LeNet5().to(device)\n",
        "\n",
        "# Define the loss function and optimizer\n",
        "criterion = nn.CrossEntropyLoss()\n",
        "optimizer = optim.Adam(model.parameters(), lr=0.001)\n",
        "\n",
        "# 3. Training the LeNet-5 Model\n",
        "epochs = 10\n",
        "train_losses = []\n",
        "\n",
        "for epoch in range(epochs):\n",
        "    running_loss = 0.0\n",
        "    for i, data in enumerate(trainloader, 0):\n",
        "        inputs, labels = data\n",
        "        inputs, labels = inputs.to(device), labels.to(device)\n",
        "\n",
        "        # Zero the parameter gradients\n",
        "        optimizer.zero_grad()\n",
        "\n",
        "        # Forward pass\n",
        "        outputs = model(inputs)\n",
        "        loss = criterion(outputs, labels)\n",
        "\n",
        "        # Backward pass and optimize\n",
        "        loss.backward()\n",
        "        optimizer.step()\n",
        "\n",
        "        running_loss += loss.item()\n",
        "\n",
        "    # Log the loss for this epoch\n",
        "    epoch_loss = running_loss / len(trainloader)\n",
        "    train_losses.append(epoch_loss)\n",
        "    print(f\"Epoch {epoch + 1}/{epochs}, Loss: {epoch_loss:.4f}\")\n",
        "\n",
        "# 4. Plotting the Training Loss History\n",
        "plt.figure(figsize=(10, 5))\n",
        "plt.plot(train_losses, label='Training Loss')\n",
        "plt.title(\"Training Loss History\")\n",
        "plt.xlabel(\"Epoch\")\n",
        "plt.ylabel(\"Loss\")\n",
        "plt.legend()\n",
        "plt.show()\n",
        "\n",
        "# 5. Calculate Training Accuracy\n",
        "model.eval()  # Set model to evaluation mode\n",
        "correct_train = 0\n",
        "total_train = 0\n",
        "with torch.no_grad():\n",
        "    for data in trainloader:\n",
        "        images, labels = data\n",
        "        images, labels = images.to(device), labels.to(device)\n",
        "        outputs = model(images)\n",
        "        _, predicted = torch.max(outputs.data, 1)\n",
        "        total_train += labels.size(0)\n",
        "        correct_train += (predicted == labels).sum().item()\n",
        "\n",
        "train_accuracy = 100 * correct_train / total_train\n",
        "print(f\"Training accuracy: {train_accuracy:.2f}%\")\n",
        "\n",
        "# 6. Calculate Test Accuracy\n",
        "correct_test = 0\n",
        "total_test = 0\n",
        "with torch.no_grad():\n",
        "    for data in testloader:\n",
        "        images, labels = data\n",
        "        images, labels = images.to(device), labels.to(device)\n",
        "        outputs = model(images)\n",
        "        _, predicted = torch.max(outputs.data, 1)\n",
        "        total_test += labels.size(0)\n",
        "        correct_test += (predicted == labels).sum().item()\n",
        "\n",
        "test_accuracy = 100 * correct_test / total_test\n",
        "print(f\"Test accuracy: {test_accuracy:.2f}%\")"
      ],
      "metadata": {
        "colab": {
          "base_uri": "https://localhost:8080/",
          "height": 1000
        },
        "id": "6Up06F_g47qf",
        "outputId": "52e31ec1-0eda-462e-bb4d-e69c109a0251"
      },
      "execution_count": 2,
      "outputs": [
        {
          "output_type": "stream",
          "name": "stdout",
          "text": [
            "Using device: cpu\n",
            "Downloading http://yann.lecun.com/exdb/mnist/train-images-idx3-ubyte.gz\n",
            "Failed to download (trying next):\n",
            "HTTP Error 403: Forbidden\n",
            "\n",
            "Downloading https://ossci-datasets.s3.amazonaws.com/mnist/train-images-idx3-ubyte.gz\n",
            "Downloading https://ossci-datasets.s3.amazonaws.com/mnist/train-images-idx3-ubyte.gz to ./data/MNIST/raw/train-images-idx3-ubyte.gz\n"
          ]
        },
        {
          "output_type": "stream",
          "name": "stderr",
          "text": [
            "100%|██████████| 9.91M/9.91M [00:00<00:00, 35.4MB/s]\n"
          ]
        },
        {
          "output_type": "stream",
          "name": "stdout",
          "text": [
            "Extracting ./data/MNIST/raw/train-images-idx3-ubyte.gz to ./data/MNIST/raw\n",
            "\n",
            "Downloading http://yann.lecun.com/exdb/mnist/train-labels-idx1-ubyte.gz\n",
            "Failed to download (trying next):\n",
            "HTTP Error 403: Forbidden\n",
            "\n",
            "Downloading https://ossci-datasets.s3.amazonaws.com/mnist/train-labels-idx1-ubyte.gz\n",
            "Downloading https://ossci-datasets.s3.amazonaws.com/mnist/train-labels-idx1-ubyte.gz to ./data/MNIST/raw/train-labels-idx1-ubyte.gz\n"
          ]
        },
        {
          "output_type": "stream",
          "name": "stderr",
          "text": [
            "100%|██████████| 28.9k/28.9k [00:00<00:00, 1.07MB/s]\n"
          ]
        },
        {
          "output_type": "stream",
          "name": "stdout",
          "text": [
            "Extracting ./data/MNIST/raw/train-labels-idx1-ubyte.gz to ./data/MNIST/raw\n",
            "\n",
            "Downloading http://yann.lecun.com/exdb/mnist/t10k-images-idx3-ubyte.gz\n",
            "Failed to download (trying next):\n",
            "HTTP Error 403: Forbidden\n",
            "\n",
            "Downloading https://ossci-datasets.s3.amazonaws.com/mnist/t10k-images-idx3-ubyte.gz\n",
            "Downloading https://ossci-datasets.s3.amazonaws.com/mnist/t10k-images-idx3-ubyte.gz to ./data/MNIST/raw/t10k-images-idx3-ubyte.gz\n"
          ]
        },
        {
          "output_type": "stream",
          "name": "stderr",
          "text": [
            "100%|██████████| 1.65M/1.65M [00:00<00:00, 9.26MB/s]\n"
          ]
        },
        {
          "output_type": "stream",
          "name": "stdout",
          "text": [
            "Extracting ./data/MNIST/raw/t10k-images-idx3-ubyte.gz to ./data/MNIST/raw\n",
            "\n",
            "Downloading http://yann.lecun.com/exdb/mnist/t10k-labels-idx1-ubyte.gz\n",
            "Failed to download (trying next):\n",
            "HTTP Error 403: Forbidden\n",
            "\n",
            "Downloading https://ossci-datasets.s3.amazonaws.com/mnist/t10k-labels-idx1-ubyte.gz\n",
            "Downloading https://ossci-datasets.s3.amazonaws.com/mnist/t10k-labels-idx1-ubyte.gz to ./data/MNIST/raw/t10k-labels-idx1-ubyte.gz\n"
          ]
        },
        {
          "output_type": "stream",
          "name": "stderr",
          "text": [
            "100%|██████████| 4.54k/4.54k [00:00<00:00, 2.37MB/s]"
          ]
        },
        {
          "output_type": "stream",
          "name": "stdout",
          "text": [
            "Extracting ./data/MNIST/raw/t10k-labels-idx1-ubyte.gz to ./data/MNIST/raw\n",
            "\n"
          ]
        },
        {
          "output_type": "stream",
          "name": "stderr",
          "text": [
            "\n"
          ]
        },
        {
          "output_type": "stream",
          "name": "stdout",
          "text": [
            "Epoch 1/10, Loss: 0.2023\n",
            "Epoch 2/10, Loss: 0.0596\n",
            "Epoch 3/10, Loss: 0.0428\n",
            "Epoch 4/10, Loss: 0.0313\n",
            "Epoch 5/10, Loss: 0.0257\n",
            "Epoch 6/10, Loss: 0.0206\n",
            "Epoch 7/10, Loss: 0.0173\n",
            "Epoch 8/10, Loss: 0.0150\n",
            "Epoch 9/10, Loss: 0.0133\n",
            "Epoch 10/10, Loss: 0.0100\n"
          ]
        },
        {
          "output_type": "display_data",
          "data": {
            "text/plain": [
              "<Figure size 1000x500 with 1 Axes>"
            ],
            "image/png": "[encoded data removed]"
          },
          "metadata": {}
        },
        {
          "output_type": "stream",
          "name": "stdout",
          "text": [
            "Training accuracy: 99.81%\n",
            "Test accuracy: 98.91%\n"
          ]
        }
      ]
    },
    {
      "cell_type": "markdown",
      "source": [
        "# **Question 3**"
      ],
      "metadata": {
        "id": "3Bz8c9_x51r8"
      }
    },
    {
      "cell_type": "markdown",
      "source": [
        "# *Transfer learning a pre-trained ResNet18 network trained on ImageNet1K to classify hymenoptera dataset.*"
      ],
      "metadata": {
        "id": "FodVC87zV1V5"
      }
    },
    {
      "cell_type": "code",
      "source": [
        "import torchvision.datasets as datasets\n",
        "import torchvision.models as models\n",
        "from torch.utils.data import DataLoader\n",
        "import os\n",
        "import zipfile\n",
        "import urllib.request\n",
        "\n",
        "# Device configuration\n",
        "device = torch.device(\"cuda\" if torch.cuda.is_available() else \"cpu\")\n",
        "\n",
        "# 1. Data Preparation\n",
        "# Download and prepare the dataset in Google Colab\n",
        "url = \"https://download.pytorch.org/tutorial/hymenoptera_data.zip\"\n",
        "data_dir = \"./hymenoptera_data\"\n",
        "\n",
        "if not os.path.exists(data_dir):\n",
        "    urllib.request.urlretrieve(url, \"hymenoptera_data.zip\")\n",
        "    with zipfile.ZipFile(\"hymenoptera_data.zip\", 'r') as zip_ref:\n",
        "        zip_ref.extractall(\".\")\n",
        "\n",
        "# Define transformations for the dataset\n",
        "transform = transforms.Compose([\n",
        "    transforms.Resize(256),\n",
        "    transforms.CenterCrop(224),\n",
        "    transforms.ToTensor(),\n",
        "    transforms.Normalize([0.485, 0.456, 0.406], [0.229, 0.224, 0.225])\n",
        "])\n",
        "\n",
        "# Load the training and validation datasets\n",
        "train_dataset = datasets.ImageFolder(root=f'{data_dir}/train', transform=transform)\n",
        "test_dataset = datasets.ImageFolder(root=f'{data_dir}/val', transform=transform)\n",
        "\n",
        "train_loader = DataLoader(train_dataset, batch_size=16, shuffle=True, num_workers=4)\n",
        "test_loader = DataLoader(test_dataset, batch_size=16, shuffle=False, num_workers=4)\n",
        "\n",
        "# 2. Load Pre-trained ResNet18 Model\n",
        "resnet18 = models.resnet18(pretrained=True)\n",
        "\n",
        "# (a) Fine-Tuning\n",
        "# Replace the final layer to classify two classes (ants and bees)\n",
        "num_features = resnet18.fc.in_features\n",
        "resnet18.fc = nn.Linear(num_features, 2)\n",
        "resnet18 = resnet18.to(device)\n",
        "\n",
        "# Define loss function and optimizer\n",
        "criterion = nn.CrossEntropyLoss()\n",
        "optimizer = optim.SGD(resnet18.parameters(), lr=0.001, momentum=0.9)\n",
        "\n",
        "# Training Loop for Fine-Tuning\n",
        "num_epochs = 10\n",
        "resnet18.train()\n",
        "for epoch in range(num_epochs):\n",
        "    running_loss = 0.0\n",
        "    correct = 0\n",
        "    total = 0\n",
        "    for inputs, labels in train_loader:\n",
        "        inputs, labels = inputs.to(device), labels.to(device)\n",
        "\n",
        "        # Forward pass\n",
        "        outputs = resnet18(inputs)\n",
        "        loss = criterion(outputs, labels)\n",
        "\n",
        "        # Backpropagation and optimization\n",
        "        optimizer.zero_grad()\n",
        "        loss.backward()\n",
        "        optimizer.step()\n",
        "\n",
        "        running_loss += loss.item()\n",
        "        _, predicted = torch.max(outputs, 1)\n",
        "        total += labels.size(0)\n",
        "        correct += (predicted == labels).sum().item()\n",
        "\n",
        "    # Calculate and print training accuracy\n",
        "    train_accuracy = 100 * correct / total\n",
        "    print(f'Epoch [{epoch + 1}/{num_epochs}], Loss: {running_loss / len(train_loader):.4f}, Training Accuracy: {train_accuracy:.2f}%')\n",
        "\n",
        "# Testing the Fine-Tuned Model\n",
        "resnet18.eval()\n",
        "correct_test = 0\n",
        "total_test = 0\n",
        "with torch.no_grad():\n",
        "    for inputs, labels in test_loader:\n",
        "        inputs, labels = inputs.to(device), labels.to(device)\n",
        "        outputs = resnet18(inputs)\n",
        "        _, predicted = torch.max(outputs, 1)\n",
        "        total_test += labels.size(0)\n",
        "        correct_test += (predicted == labels).sum().item()\n",
        "\n",
        "test_accuracy = 100 * correct_test / total_test\n",
        "print(f'Fine-Tuning Test Accuracy: {test_accuracy:.2f}%')\n",
        "\n",
        "# (b) Feature Extraction\n",
        "# Reload pre-trained ResNet18 and freeze all parameters\n",
        "resnet18 = models.resnet18(pretrained=True)\n",
        "for param in resnet18.parameters():\n",
        "    param.requires_grad = False\n",
        "\n",
        "# Replace the final layer for 2-class classification\n",
        "num_features = resnet18.fc.in_features\n",
        "resnet18.fc = nn.Linear(num_features, 2)\n",
        "resnet18 = resnet18.to(device)\n",
        "\n",
        "# Define optimizer for the final layer only\n",
        "optimizer = optim.SGD(resnet18.fc.parameters(), lr=0.001, momentum=0.9)\n",
        "\n",
        "# Training Loop for Feature Extraction\n",
        "resnet18.train()\n",
        "for epoch in range(num_epochs):\n",
        "    running_loss = 0.0\n",
        "    correct = 0\n",
        "    total = 0\n",
        "    for inputs, labels in train_loader:\n",
        "        inputs, labels = inputs.to(device), labels.to(device)\n",
        "\n",
        "        # Forward pass\n",
        "        outputs = resnet18(inputs)\n",
        "        loss = criterion(outputs, labels)\n",
        "\n",
        "        # Backpropagation and optimization\n",
        "        optimizer.zero_grad()\n",
        "        loss.backward()\n",
        "        optimizer.step()\n",
        "\n",
        "        running_loss += loss.item()\n",
        "        _, predicted = torch.max(outputs, 1)\n",
        "        total += labels.size(0)\n",
        "        correct += (predicted == labels).sum().item()\n",
        "\n",
        "    # Calculate and print training accuracy\n",
        "    train_accuracy = 100 * correct / total\n",
        "    print(f'Epoch [{epoch + 1}/{num_epochs}], Loss: {running_loss / len(train_loader):.4f}, Training Accuracy: {train_accuracy:.2f}%')\n",
        "\n",
        "# Testing the Feature Extraction Model\n",
        "resnet18.eval()\n",
        "correct_test = 0\n",
        "total_test = 0\n",
        "with torch.no_grad():\n",
        "    for inputs, labels in test_loader:\n",
        "        inputs, labels = inputs.to(device), labels.to(device)\n",
        "        outputs = resnet18(inputs)\n",
        "        _, predicted = torch.max(outputs, 1)\n",
        "        total_test += labels.size(0)\n",
        "        correct_test += (predicted == labels).sum().item()\n",
        "\n",
        "test_accuracy = 100 * correct_test / total_test\n",
        "print(f'Feature Extraction Test Accuracy: {test_accuracy:.2f}%')\n"
      ],
      "metadata": {
        "colab": {
          "base_uri": "https://localhost:8080/"
        },
        "id": "aaCEtvJKRLwC",
        "outputId": "4b579c88-51bd-4fe5-b386-ab144b040ee0"
      },
      "execution_count": 3,
      "outputs": [
        {
          "output_type": "stream",
          "name": "stderr",
          "text": [
            "/usr/local/lib/python3.10/dist-packages/torch/utils/data/dataloader.py:617: UserWarning: This DataLoader will create 4 worker processes in total. Our suggested max number of worker in current system is 2, which is smaller than what this DataLoader is going to create. Please be aware that excessive worker creation might get DataLoader running slow or even freeze, lower the worker number to avoid potential slowness/freeze if necessary.\n",
            "  warnings.warn(\n",
            "/usr/local/lib/python3.10/dist-packages/torchvision/models/_utils.py:208: UserWarning: The parameter 'pretrained' is deprecated since 0.13 and may be removed in the future, please use 'weights' instead.\n",
            "  warnings.warn(\n",
            "/usr/local/lib/python3.10/dist-packages/torchvision/models/_utils.py:223: UserWarning: Arguments other than a weight enum or `None` for 'weights' are deprecated since 0.13 and may be removed in the future. The current behavior is equivalent to passing `weights=ResNet18_Weights.IMAGENET1K_V1`. You can also use `weights=ResNet18_Weights.DEFAULT` to get the most up-to-date weights.\n",
            "  warnings.warn(msg)\n",
            "Downloading: \"https://download.pytorch.org/models/resnet18-f37072fd.pth\" to /root/.cache/torch/hub/checkpoints/resnet18-f37072fd.pth\n",
            "100%|██████████| 44.7M/44.7M [00:00<00:00, 94.1MB/s]\n"
          ]
        },
        {
          "output_type": "stream",
          "name": "stdout",
          "text": [
            "Epoch [1/10], Loss: 0.5266, Training Accuracy: 73.77%\n",
            "Epoch [2/10], Loss: 0.2219, Training Accuracy: 93.85%\n",
            "Epoch [3/10], Loss: 0.1545, Training Accuracy: 94.67%\n",
            "Epoch [4/10], Loss: 0.0854, Training Accuracy: 98.36%\n",
            "Epoch [5/10], Loss: 0.0671, Training Accuracy: 98.77%\n",
            "Epoch [6/10], Loss: 0.0317, Training Accuracy: 100.00%\n",
            "Epoch [7/10], Loss: 0.0194, Training Accuracy: 100.00%\n",
            "Epoch [8/10], Loss: 0.0251, Training Accuracy: 100.00%\n",
            "Epoch [9/10], Loss: 0.0354, Training Accuracy: 99.18%\n",
            "Epoch [10/10], Loss: 0.0321, Training Accuracy: 100.00%\n",
            "Fine-Tuning Test Accuracy: 95.42%\n",
            "Epoch [1/10], Loss: 0.6055, Training Accuracy: 65.16%\n",
            "Epoch [2/10], Loss: 0.3595, Training Accuracy: 85.66%\n",
            "Epoch [3/10], Loss: 0.3201, Training Accuracy: 86.07%\n",
            "Epoch [4/10], Loss: 0.2344, Training Accuracy: 90.98%\n",
            "Epoch [5/10], Loss: 0.2115, Training Accuracy: 93.44%\n",
            "Epoch [6/10], Loss: 0.1577, Training Accuracy: 96.31%\n",
            "Epoch [7/10], Loss: 0.1626, Training Accuracy: 93.44%\n",
            "Epoch [8/10], Loss: 0.1629, Training Accuracy: 95.90%\n",
            "Epoch [9/10], Loss: 0.1525, Training Accuracy: 95.08%\n",
            "Epoch [10/10], Loss: 0.1595, Training Accuracy: 94.67%\n",
            "Feature Extraction Test Accuracy: 90.20%\n"
          ]
        }
      ]
    }
  ]
}